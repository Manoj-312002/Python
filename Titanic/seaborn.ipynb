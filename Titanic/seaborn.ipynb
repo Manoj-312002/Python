{
  "nbformat": 4,
  "nbformat_minor": 0,
  "metadata": {
    "colab": {
      "name": "seaborn.ipynb",
      "provenance": [],
      "include_colab_link": true
    },
    "kernelspec": {
      "name": "python3",
      "display_name": "Python 3"
    }
  },
  "cells": [
    {
      "cell_type": "markdown",
      "metadata": {
        "id": "view-in-github",
        "colab_type": "text"
      },
      "source": [
        "<a href=\"https://colab.research.google.com/github/Manoj-312002/Python/blob/master/Titanic/seaborn.ipynb\" target=\"_parent\"><img src=\"https://colab.research.google.com/assets/colab-badge.svg\" alt=\"Open In Colab\"/></a>"
      ]
    },
    {
      "cell_type": "code",
      "metadata": {
        "id": "evrSTiBrnSxm",
        "colab_type": "code",
        "colab": {}
      },
      "source": [
        "import numpy as np \n",
        "import pandas as pd \n",
        "import seaborn as sns\n",
        "import matplotlib.pyplot as plt"
      ],
      "execution_count": 0,
      "outputs": []
    },
    {
      "cell_type": "code",
      "metadata": {
        "id": "GXUsbypFEBX4",
        "colab_type": "code",
        "colab": {}
      },
      "source": [
        "train = pd.read_csv('./train.csv')\n",
        "train.head()\n",
        "test = pd.read_csv('./test.csv')\n",
        "alldata = pd.concat([train,test])\n",
        "len(train),len(test),len(alldata)"
      ],
      "execution_count": 0,
      "outputs": []
    },
    {
      "cell_type": "code",
      "metadata": {
        "id": "w9ACG5nxEBYi",
        "colab_type": "code",
        "colab": {}
      },
      "source": [
        "alldata.info()"
      ],
      "execution_count": 0,
      "outputs": []
    },
    {
      "cell_type": "code",
      "metadata": {
        "id": "OLgrTWp5EBZU",
        "colab_type": "code",
        "colab": {}
      },
      "source": [
        "train[train['Age'].isna()]\n",
        "s = train.groupby(['Sex'])\n",
        "s.describe()"
      ],
      "execution_count": 0,
      "outputs": []
    },
    {
      "cell_type": "code",
      "metadata": {
        "id": "lZM3vnfJEBaR",
        "colab_type": "code",
        "colab": {}
      },
      "source": [
        "sns.set_palette('Set1')\n",
        "sns.distplot(train['Age'],bins=50)  "
      ],
      "execution_count": 0,
      "outputs": []
    },
    {
      "cell_type": "code",
      "metadata": {
        "id": "qmQ1Y9VlEBbD",
        "colab_type": "code",
        "colab": {}
      },
      "source": [
        "sns.stripplot('Survived','Age',data=train,palette='YlGnBu')\n",
        "sns.boxplot('Survived','Age',data = train,palette='YlGnBu')\n"
      ],
      "execution_count": 0,
      "outputs": []
    },
    {
      "cell_type": "code",
      "metadata": {
        "id": "b7kZKyJ9EBby",
        "colab_type": "code",
        "colab": {}
      },
      "source": [
        "train['Pclass'].unique()"
      ],
      "execution_count": 0,
      "outputs": []
    },
    {
      "cell_type": "code",
      "metadata": {
        "id": "5RxdwzH4EBcM",
        "colab_type": "code",
        "colab": {}
      },
      "source": [
        "plt.figure()\n",
        "sns.kdeplot(train.query('Pclass == 1')['Age'],label='1',shade=True)\n",
        "sns.kdeplot(train.query('Pclass == 2')['Age'],label='2')\n",
        "sns.kdeplot(train.query('Pclass == 3')['Age'],label='3')\n"
      ],
      "execution_count": 0,
      "outputs": []
    },
    {
      "cell_type": "code",
      "metadata": {
        "id": "zu6NYzlnEBc6",
        "colab_type": "code",
        "colab": {}
      },
      "source": [
        "sns.catplot(x='Pclass',y='Survived',hue='Embarked',data=train,kind='violin',col='Sex',palette='YlGnBu')"
      ],
      "execution_count": 0,
      "outputs": []
    },
    {
      "cell_type": "code",
      "metadata": {
        "id": "nuqzpRRTEBdY",
        "colab_type": "code",
        "colab": {}
      },
      "source": [
        "for i in train.columns:\n",
        "    print(i,'->',train[i].unique().shape)"
      ],
      "execution_count": 0,
      "outputs": []
    },
    {
      "cell_type": "code",
      "metadata": {
        "id": "V8UMSLqIEBd4",
        "colab_type": "code",
        "colab": {}
      },
      "source": [
        "sns.relplot(x='Age',y='Fare',kind='scatter',data=train,col='Sex',estimator=None,row='Pclass',hue='Survived')"
      ],
      "execution_count": 0,
      "outputs": []
    },
    {
      "cell_type": "markdown",
      "metadata": {
        "id": "RGrS71vYEBeX",
        "colab_type": "text"
      },
      "source": [
        "## Important"
      ]
    },
    {
      "cell_type": "code",
      "metadata": {
        "id": "yCBKrVSXEBeg",
        "colab_type": "code",
        "colab": {}
      },
      "source": [
        "train['Title'] = train['Name'].str.split(',', expand = True)[1].str.split('.', expand = True)[0].str.strip(' ')\n",
        "train.groupby(['Sex','Pclas'])['Age'].apply(lambda x:x.fillna(x.median()))"
      ],
      "execution_count": 0,
      "outputs": []
    }
  ]
}